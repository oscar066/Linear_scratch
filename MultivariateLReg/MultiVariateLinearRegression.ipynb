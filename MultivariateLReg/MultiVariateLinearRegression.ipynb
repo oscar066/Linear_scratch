{
  "cells": [
    {
      "cell_type": "markdown",
      "metadata": {
        "id": "sH7SvnaGb1yj"
      },
      "source": [
        "# Multivariate Linear Regression"
      ]
    },
    {
      "cell_type": "markdown",
      "metadata": {
        "id": "Z8G77pzob1yl"
      },
      "source": [
        "### Importing the libraries"
      ]
    },
    {
      "cell_type": "code",
      "execution_count": 1,
      "metadata": {
        "colab": {
          "base_uri": "https://localhost:8080/",
          "height": 206
        },
        "id": "oDGvy0wab1ym",
        "outputId": "8a5485dc-23a3-47b3-85be-5200d2ed3022"
      },
      "outputs": [
        {
          "output_type": "execute_result",
          "data": {
            "text/plain": [
              "        age       sex       bmi        bp        s1        s2        s3  \\\n",
              "0  0.038076  0.050680  0.061696  0.021872 -0.044223 -0.034821 -0.043401   \n",
              "1 -0.001882 -0.044642 -0.051474 -0.026328 -0.008449 -0.019163  0.074412   \n",
              "2  0.085299  0.050680  0.044451 -0.005671 -0.045599 -0.034194 -0.032356   \n",
              "3 -0.089063 -0.044642 -0.011595 -0.036656  0.012191  0.024991 -0.036038   \n",
              "4  0.005383 -0.044642 -0.036385  0.021872  0.003935  0.015596  0.008142   \n",
              "\n",
              "         s4        s5        s6  target  \n",
              "0 -0.002592  0.019908 -0.017646   151.0  \n",
              "1 -0.039493 -0.068330 -0.092204    75.0  \n",
              "2 -0.002592  0.002864 -0.025930   141.0  \n",
              "3  0.034309  0.022692 -0.009362   206.0  \n",
              "4 -0.002592 -0.031991 -0.046641   135.0  "
            ],
            "text/html": [
              "\n",
              "  <div id=\"df-bf3ce054-3c79-4019-9983-1fcf2f26acb8\">\n",
              "    <div class=\"colab-df-container\">\n",
              "      <div>\n",
              "<style scoped>\n",
              "    .dataframe tbody tr th:only-of-type {\n",
              "        vertical-align: middle;\n",
              "    }\n",
              "\n",
              "    .dataframe tbody tr th {\n",
              "        vertical-align: top;\n",
              "    }\n",
              "\n",
              "    .dataframe thead th {\n",
              "        text-align: right;\n",
              "    }\n",
              "</style>\n",
              "<table border=\"1\" class=\"dataframe\">\n",
              "  <thead>\n",
              "    <tr style=\"text-align: right;\">\n",
              "      <th></th>\n",
              "      <th>age</th>\n",
              "      <th>sex</th>\n",
              "      <th>bmi</th>\n",
              "      <th>bp</th>\n",
              "      <th>s1</th>\n",
              "      <th>s2</th>\n",
              "      <th>s3</th>\n",
              "      <th>s4</th>\n",
              "      <th>s5</th>\n",
              "      <th>s6</th>\n",
              "      <th>target</th>\n",
              "    </tr>\n",
              "  </thead>\n",
              "  <tbody>\n",
              "    <tr>\n",
              "      <th>0</th>\n",
              "      <td>0.038076</td>\n",
              "      <td>0.050680</td>\n",
              "      <td>0.061696</td>\n",
              "      <td>0.021872</td>\n",
              "      <td>-0.044223</td>\n",
              "      <td>-0.034821</td>\n",
              "      <td>-0.043401</td>\n",
              "      <td>-0.002592</td>\n",
              "      <td>0.019908</td>\n",
              "      <td>-0.017646</td>\n",
              "      <td>151.0</td>\n",
              "    </tr>\n",
              "    <tr>\n",
              "      <th>1</th>\n",
              "      <td>-0.001882</td>\n",
              "      <td>-0.044642</td>\n",
              "      <td>-0.051474</td>\n",
              "      <td>-0.026328</td>\n",
              "      <td>-0.008449</td>\n",
              "      <td>-0.019163</td>\n",
              "      <td>0.074412</td>\n",
              "      <td>-0.039493</td>\n",
              "      <td>-0.068330</td>\n",
              "      <td>-0.092204</td>\n",
              "      <td>75.0</td>\n",
              "    </tr>\n",
              "    <tr>\n",
              "      <th>2</th>\n",
              "      <td>0.085299</td>\n",
              "      <td>0.050680</td>\n",
              "      <td>0.044451</td>\n",
              "      <td>-0.005671</td>\n",
              "      <td>-0.045599</td>\n",
              "      <td>-0.034194</td>\n",
              "      <td>-0.032356</td>\n",
              "      <td>-0.002592</td>\n",
              "      <td>0.002864</td>\n",
              "      <td>-0.025930</td>\n",
              "      <td>141.0</td>\n",
              "    </tr>\n",
              "    <tr>\n",
              "      <th>3</th>\n",
              "      <td>-0.089063</td>\n",
              "      <td>-0.044642</td>\n",
              "      <td>-0.011595</td>\n",
              "      <td>-0.036656</td>\n",
              "      <td>0.012191</td>\n",
              "      <td>0.024991</td>\n",
              "      <td>-0.036038</td>\n",
              "      <td>0.034309</td>\n",
              "      <td>0.022692</td>\n",
              "      <td>-0.009362</td>\n",
              "      <td>206.0</td>\n",
              "    </tr>\n",
              "    <tr>\n",
              "      <th>4</th>\n",
              "      <td>0.005383</td>\n",
              "      <td>-0.044642</td>\n",
              "      <td>-0.036385</td>\n",
              "      <td>0.021872</td>\n",
              "      <td>0.003935</td>\n",
              "      <td>0.015596</td>\n",
              "      <td>0.008142</td>\n",
              "      <td>-0.002592</td>\n",
              "      <td>-0.031991</td>\n",
              "      <td>-0.046641</td>\n",
              "      <td>135.0</td>\n",
              "    </tr>\n",
              "  </tbody>\n",
              "</table>\n",
              "</div>\n",
              "      <button class=\"colab-df-convert\" onclick=\"convertToInteractive('df-bf3ce054-3c79-4019-9983-1fcf2f26acb8')\"\n",
              "              title=\"Convert this dataframe to an interactive table.\"\n",
              "              style=\"display:none;\">\n",
              "        \n",
              "  <svg xmlns=\"http://www.w3.org/2000/svg\" height=\"24px\"viewBox=\"0 0 24 24\"\n",
              "       width=\"24px\">\n",
              "    <path d=\"M0 0h24v24H0V0z\" fill=\"none\"/>\n",
              "    <path d=\"M18.56 5.44l.94 2.06.94-2.06 2.06-.94-2.06-.94-.94-2.06-.94 2.06-2.06.94zm-11 1L8.5 8.5l.94-2.06 2.06-.94-2.06-.94L8.5 2.5l-.94 2.06-2.06.94zm10 10l.94 2.06.94-2.06 2.06-.94-2.06-.94-.94-2.06-.94 2.06-2.06.94z\"/><path d=\"M17.41 7.96l-1.37-1.37c-.4-.4-.92-.59-1.43-.59-.52 0-1.04.2-1.43.59L10.3 9.45l-7.72 7.72c-.78.78-.78 2.05 0 2.83L4 21.41c.39.39.9.59 1.41.59.51 0 1.02-.2 1.41-.59l7.78-7.78 2.81-2.81c.8-.78.8-2.07 0-2.86zM5.41 20L4 18.59l7.72-7.72 1.47 1.35L5.41 20z\"/>\n",
              "  </svg>\n",
              "      </button>\n",
              "      \n",
              "  <style>\n",
              "    .colab-df-container {\n",
              "      display:flex;\n",
              "      flex-wrap:wrap;\n",
              "      gap: 12px;\n",
              "    }\n",
              "\n",
              "    .colab-df-convert {\n",
              "      background-color: #E8F0FE;\n",
              "      border: none;\n",
              "      border-radius: 50%;\n",
              "      cursor: pointer;\n",
              "      display: none;\n",
              "      fill: #1967D2;\n",
              "      height: 32px;\n",
              "      padding: 0 0 0 0;\n",
              "      width: 32px;\n",
              "    }\n",
              "\n",
              "    .colab-df-convert:hover {\n",
              "      background-color: #E2EBFA;\n",
              "      box-shadow: 0px 1px 2px rgba(60, 64, 67, 0.3), 0px 1px 3px 1px rgba(60, 64, 67, 0.15);\n",
              "      fill: #174EA6;\n",
              "    }\n",
              "\n",
              "    [theme=dark] .colab-df-convert {\n",
              "      background-color: #3B4455;\n",
              "      fill: #D2E3FC;\n",
              "    }\n",
              "\n",
              "    [theme=dark] .colab-df-convert:hover {\n",
              "      background-color: #434B5C;\n",
              "      box-shadow: 0px 1px 3px 1px rgba(0, 0, 0, 0.15);\n",
              "      filter: drop-shadow(0px 1px 2px rgba(0, 0, 0, 0.3));\n",
              "      fill: #FFFFFF;\n",
              "    }\n",
              "  </style>\n",
              "\n",
              "      <script>\n",
              "        const buttonEl =\n",
              "          document.querySelector('#df-bf3ce054-3c79-4019-9983-1fcf2f26acb8 button.colab-df-convert');\n",
              "        buttonEl.style.display =\n",
              "          google.colab.kernel.accessAllowed ? 'block' : 'none';\n",
              "\n",
              "        async function convertToInteractive(key) {\n",
              "          const element = document.querySelector('#df-bf3ce054-3c79-4019-9983-1fcf2f26acb8');\n",
              "          const dataTable =\n",
              "            await google.colab.kernel.invokeFunction('convertToInteractive',\n",
              "                                                     [key], {});\n",
              "          if (!dataTable) return;\n",
              "\n",
              "          const docLinkHtml = 'Like what you see? Visit the ' +\n",
              "            '<a target=\"_blank\" href=https://colab.research.google.com/notebooks/data_table.ipynb>data table notebook</a>'\n",
              "            + ' to learn more about interactive tables.';\n",
              "          element.innerHTML = '';\n",
              "          dataTable['output_type'] = 'display_data';\n",
              "          await google.colab.output.renderOutput(dataTable, element);\n",
              "          const docLink = document.createElement('div');\n",
              "          docLink.innerHTML = docLinkHtml;\n",
              "          element.appendChild(docLink);\n",
              "        }\n",
              "      </script>\n",
              "    </div>\n",
              "  </div>\n",
              "  "
            ]
          },
          "metadata": {},
          "execution_count": 1
        }
      ],
      "source": [
        "import numpy as np\n",
        "import pandas as pd\n",
        "import matplotlib.pyplot as plt\n",
        "from sklearn import datasets\n",
        "\n",
        "# Load the diabetes dataset\n",
        "diabetes = datasets.load_diabetes()\n",
        "\n",
        "diabetes_df = pd.DataFrame(diabetes.data, columns=diabetes.feature_names)\n",
        "diabetes_df['target'] = diabetes.target\n",
        "\n",
        "diabetes_df.head()\n"
      ]
    },
    {
      "cell_type": "code",
      "execution_count": 2,
      "metadata": {
        "colab": {
          "base_uri": "https://localhost:8080/",
          "height": 0
        },
        "id": "5-zylRQhb1yo",
        "outputId": "2edf251e-b059-4a76-f923-4061389703c2"
      },
      "outputs": [
        {
          "output_type": "execute_result",
          "data": {
            "text/plain": [
              "['age', 'sex', 'bmi', 'bp', 's1', 's2', 's3', 's4', 's5', 's6']"
            ]
          },
          "metadata": {},
          "execution_count": 2
        }
      ],
      "source": [
        "diabetes.feature_names"
      ]
    },
    {
      "cell_type": "markdown",
      "metadata": {
        "id": "pqS5ELQJb1yo"
      },
      "source": [
        "### Splitting the dataset into Features and Labels"
      ]
    },
    {
      "cell_type": "code",
      "execution_count": 3,
      "metadata": {
        "id": "SnssahQUb1yp"
      },
      "outputs": [],
      "source": [
        "# Split the dataset into features and labels\n",
        "X = diabetes.data\n",
        "y = diabetes.target"
      ]
    },
    {
      "cell_type": "markdown",
      "metadata": {
        "id": "SgJHYZHZb1yp"
      },
      "source": [
        "### Shuffling the dataset"
      ]
    },
    {
      "cell_type": "code",
      "execution_count": 4,
      "metadata": {
        "id": "b8eDLeQSb1yq"
      },
      "outputs": [],
      "source": [
        "def shuffle_data(X, y):\n",
        "    # Convert input lists X and y into numpy arrays\n",
        "    X, y = np.array(X), np.array(y)\n",
        "    # Create an array of indices ranging from 0 to the number of rows in X\n",
        "    indices = np.arange(X.shape[0]) \n",
        "    # Shuffle the indices randomly\n",
        "    np.random.shuffle(indices) \n",
        "    # Use the shuffled indices to shuffle the corresponding elements in X and y\n",
        "    X, y = X[indices], y[indices]\n",
        "    # Return the shuffled data as two arrays X and y\n",
        "    return X, y\n",
        "\n",
        "X , y = shuffle_data(X, y)"
      ]
    },
    {
      "cell_type": "code",
      "execution_count": 5,
      "metadata": {
        "colab": {
          "base_uri": "https://localhost:8080/",
          "height": 0
        },
        "id": "x4Hp-A7pb1yq",
        "outputId": "63f1aa5a-acfc-4cbe-ab64-bf5c10bd9f9a"
      },
      "outputs": [
        {
          "output_type": "stream",
          "name": "stdout",
          "text": [
            "[[ 0.01991321 -0.04464164 -0.02345095 -0.07108515  0.02044629 -0.01008203\n",
            "   0.11859122 -0.0763945  -0.0425721   0.07348023]\n",
            " [-0.03094232 -0.04464164  0.04660684  0.01498661 -0.01670444 -0.04703355\n",
            "   0.00077881 -0.00259226  0.06345592 -0.02593034]\n",
            " [-0.04183994 -0.04464164  0.12852056  0.0631868  -0.03321588 -0.03262872\n",
            "   0.01182372 -0.03949338 -0.01599827 -0.05078298]\n",
            " [-0.08179786 -0.04464164 -0.0816528  -0.04009932  0.0025589  -0.01853704\n",
            "   0.07072993 -0.03949338 -0.01090444 -0.09220405]\n",
            " [ 0.07076875 -0.04464164  0.06924089  0.03793909  0.02182224  0.00150446\n",
            "  -0.03603757  0.039106    0.07763279  0.10661708]]\n",
            "[ 92.  99. 259.  51. 220.]\n"
          ]
        }
      ],
      "source": [
        "# make sure that the labels and features are still matching after shuffling the data.\n",
        "print(X[:5])\n",
        "print(y[:5])"
      ]
    },
    {
      "cell_type": "markdown",
      "metadata": {
        "id": "gcVzOCKVb1yr"
      },
      "source": [
        "### Splitting the dataset into the Training set ,Test set and dev set"
      ]
    },
    {
      "cell_type": "code",
      "execution_count": 6,
      "metadata": {
        "id": "PQc9vRdpb1ys"
      },
      "outputs": [],
      "source": [
        "from sklearn.model_selection import train_test_split\n",
        "\n",
        "# Split the data into train and test sets, with test set size of 40% \n",
        "X_train, X_test, y_train, y_test = train_test_split(X, y, test_size=0.4, random_state=42)\n",
        "\n",
        "# Split the test set into dev and test sets, with test set size of 50% i.e 20% test, 20% dev\n",
        "X_dev, X_test, y_dev, y_test = train_test_split(X_test, y_test, test_size=0.5, random_state=42)\n"
      ]
    },
    {
      "cell_type": "code",
      "execution_count": 7,
      "metadata": {
        "colab": {
          "base_uri": "https://localhost:8080/",
          "height": 0
        },
        "id": "ZWrTBbsEb1ys",
        "outputId": "47ca0591-f4c6-4b19-b8f7-3e04501ba734"
      },
      "outputs": [
        {
          "output_type": "stream",
          "name": "stdout",
          "text": [
            "Train set:  (265, 10) (265,)\n",
            "Dev set:  (88, 10) (88,)\n",
            "Test set:  (89, 10) (89,)\n"
          ]
        }
      ],
      "source": [
        "# Print the shapes of the train, dev, and test sets\n",
        "print(\"Train set: \", X_train.shape, y_train.shape)\n",
        "\n",
        "print(\"Dev set: \", X_dev.shape, y_dev.shape)\n",
        "\n",
        "print(\"Test set: \", X_test.shape, y_test.shape)"
      ]
    },
    {
      "cell_type": "code",
      "execution_count": 8,
      "metadata": {
        "id": "7l8sIa9Sb1yt"
      },
      "outputs": [],
      "source": [
        "# Number of features\n",
        "n_features = X_train.shape[1]\n",
        "\n",
        "# Initialize the weights and bias\n",
        "weights = np.zeros(n_features)\n",
        "bias = 0"
      ]
    },
    {
      "cell_type": "code",
      "execution_count": 9,
      "metadata": {
        "id": "UWTyPIvFb1yt"
      },
      "outputs": [],
      "source": [
        "def hypothesis(X, weights, bias):\n",
        "    # Return the predicted value of y\n",
        "    return np.dot(X, weights) + bias\n",
        "\n",
        "def mean_squared_error(y_true, y_pred):\n",
        "    # Return the mean squared error between y_true and y_pred\n",
        "    return np.mean((y_true - y_pred)**2)\n",
        "\n",
        "def cost(X, y, weights, bias):\n",
        "    # Return the cost using mean squared error\n",
        "    y_pred = hypothesis(X, weights, bias)\n",
        "    return mean_squared_error(y, y_pred)\n"
      ]
    },
    {
      "cell_type": "markdown",
      "metadata": {
        "id": "rAYNn7iCb1yt"
      },
      "source": [
        "### Implementing the Gradient Descent Algorithm"
      ]
    },
    {
      "cell_type": "code",
      "execution_count": 10,
      "metadata": {
        "id": "njDMBlJAb1yu"
      },
      "outputs": [],
      "source": [
        "def gradient_descent(X, y, weights, bias, learning_rate):\n",
        "    \"\"\"\n",
        "    Perform a single iteration of gradient descent to update the weights and bias\n",
        "\n",
        "    Parameters:\n",
        "        X (np.array): input data with shape (n_samples, n_features)\n",
        "        y (np.array): target data with shape (n_samples,)\n",
        "        weights (np.array): weight coefficients with shape (n_features,)\n",
        "        bias (float): bias term\n",
        "        learning_rate (float): learning rate for gradient descent\n",
        "\n",
        "    Returns:\n",
        "        weights (np.array): updated weight coefficients with shape (n_features,)\n",
        "        bias (float): updated bias term\n",
        "    \"\"\"\n",
        "    # Calculate the predicted values using the current weights and bias\n",
        "    y_pred = hypothesis(X, weights, bias)\n",
        "\n",
        "    # Calculate the gradient for the weights\n",
        "    d_weights = -2 * np.dot(X.T, (y - y_pred)) / X.shape[0]\n",
        "\n",
        "    # Calculate the gradient for the bias\n",
        "    d_bias = -2 * np.mean(y - y_pred)\n",
        "\n",
        "    # Update the weights and bias using the calculated gradients\n",
        "    weights -= learning_rate * d_weights\n",
        "    bias -= learning_rate * d_bias\n",
        "\n",
        "    return weights, bias\n"
      ]
    },
    {
      "cell_type": "markdown",
      "metadata": {
        "id": "AYx4ug7db1yu"
      },
      "source": [
        "### Training the model"
      ]
    },
    {
      "cell_type": "code",
      "execution_count": 11,
      "metadata": {
        "id": "12BcRUSmb1yu"
      },
      "outputs": [],
      "source": [
        "# defining the training function\n",
        "def train_model(X, y, weights, bias, learning_rate, n_iters):\n",
        "    costs = []\n",
        "\n",
        "    for i in range(n_iters):\n",
        "        # Perform a single iteration of gradient descent\n",
        "        weights, bias = gradient_descent(X, y, weights, bias, learning_rate)\n",
        "\n",
        "        # Calculate the cost over the entire training set\n",
        "        cost_ = cost(X, y, weights, bias)\n",
        "\n",
        "        # Print the cost every 100 iterations\n",
        "        if i % 100 == 0:\n",
        "            print(\"Cost at iteration {}:\\t {}\".format(i, cost_))\n",
        "\n",
        "        # Append the cost to the costs list\n",
        "        costs.append(cost_)\n",
        "\n",
        "    return weights, bias, costs"
      ]
    },
    {
      "cell_type": "code",
      "execution_count": 12,
      "metadata": {
        "colab": {
          "base_uri": "https://localhost:8080/",
          "height": 993
        },
        "id": "xNSOskPWb1yv",
        "outputId": "fad2f00d-a547-4ff9-d39e-de71a9dfd1f8"
      },
      "outputs": [
        {
          "output_type": "stream",
          "name": "stdout",
          "text": [
            "Cost at iteration 0:\t 29906.623169800954\n",
            "Cost at iteration 100:\t 22041.156710373103\n",
            "Cost at iteration 200:\t 16768.577368337723\n",
            "Cost at iteration 300:\t 13233.321735934167\n",
            "Cost at iteration 400:\t 10862.135422096346\n",
            "Cost at iteration 500:\t 9270.919946769354\n",
            "Cost at iteration 600:\t 8202.317233369438\n",
            "Cost at iteration 700:\t 7483.889257729543\n",
            "Cost at iteration 800:\t 7000.097098959382\n",
            "Cost at iteration 900:\t 6673.52602314482\n",
            "Cost at iteration 0:\t 6436.119990319524\n",
            "Cost at iteration 100:\t 5952.564760531499\n",
            "Cost at iteration 200:\t 5875.441347643607\n",
            "Cost at iteration 300:\t 5807.60539151369\n",
            "Cost at iteration 400:\t 5742.001081682859\n",
            "Cost at iteration 500:\t 5678.433907382942\n",
            "Cost at iteration 600:\t 5616.832456104412\n",
            "Cost at iteration 700:\t 5557.129852462427\n",
            "Cost at iteration 800:\t 5499.261590251746\n",
            "Cost at iteration 900:\t 5443.165413922547\n",
            "Cost at iteration 0:\t 5383.964925631438\n",
            "Cost at iteration 100:\t 4923.467424106616\n",
            "Cost at iteration 200:\t 4581.3645486409105\n",
            "Cost at iteration 300:\t 4323.66869453112\n",
            "Cost at iteration 400:\t 4126.49170069167\n",
            "Cost at iteration 500:\t 3973.0134602494977\n",
            "Cost at iteration 600:\t 3851.363055011008\n",
            "Cost at iteration 700:\t 3753.137490493022\n",
            "Cost at iteration 800:\t 3672.3659569390056\n",
            "Cost at iteration 900:\t 3604.78542200301\n",
            "Cost at iteration 0:\t 3542.5615487047116\n",
            "Cost at iteration 100:\t 3236.070706588075\n",
            "Cost at iteration 200:\t 3116.6501767610825\n",
            "Cost at iteration 300:\t 3064.133594595767\n",
            "Cost at iteration 400:\t 3040.134119946097\n",
            "Cost at iteration 500:\t 3028.7037249769646\n",
            "Cost at iteration 600:\t 3022.9657717002624\n",
            "Cost at iteration 700:\t 3019.8862360823487\n",
            "Cost at iteration 800:\t 3018.091711583698\n",
            "Cost at iteration 900:\t 3016.9418898075387\n"
          ]
        },
        {
          "output_type": "display_data",
          "data": {
            "text/plain": [
              "<Figure size 432x288 with 1 Axes>"
            ],
            "image/png": "[encoded data removed]"
          },
          "metadata": {
            "needs_background": "light"
          }
        }
      ],
      "source": [
        "# Testing different learning rates\n",
        "def plot_learning_rates(X, y, weights, bias, n_iters):\n",
        "    learning_rates = [0.001, 0.01, 0.1, 1]\n",
        "    costs = []\n",
        "\n",
        "    for learning_rate in learning_rates:\n",
        "        # Train the model with the current learning rate\n",
        "        weights, bias, cost_ = train_model(X, y, weights, bias, learning_rate, n_iters)\n",
        "\n",
        "        # Append the cost of the current model to the list of costs\n",
        "        costs.append(cost_)\n",
        "\n",
        "    # Plot the costs for each learning rate\n",
        "    plt.plot(costs[0], label=\"0.001\")\n",
        "    plt.plot(costs[1], label=\"0.01\")\n",
        "    plt.plot(costs[2], label=\"0.1\")\n",
        "    plt.plot(costs[3], label=\"1\")\n",
        "    plt.legend()\n",
        "    plt.xlabel(\"Iterations\")\n",
        "    plt.ylabel(\"Cost\")\n",
        "    plt.show()\n",
        "\n",
        "plot_learning_rates(X_train, y_train, weights, bias, 1000)"
      ]
    },
    {
      "cell_type": "markdown",
      "metadata": {
        "id": "F9wlXidAb1yv"
      },
      "source": [
        "The optimal learning rate is 0.01 because it consistently provides stability as the number of iterations increases."
      ]
    },
    {
      "cell_type": "code",
      "execution_count": 17,
      "metadata": {
        "colab": {
          "base_uri": "https://localhost:8080/",
          "height": 0
        },
        "id": "GYGkRstUb1yv",
        "outputId": "1afc04bc-60ba-44ee-fefd-7f274289891f"
      },
      "outputs": [
        {
          "output_type": "stream",
          "name": "stdout",
          "text": [
            "Cost at iteration 0:\t 3406.0116263125155\n",
            "Cost at iteration 100:\t 3022.9587153227576\n",
            "Cost at iteration 200:\t 3016.2166402566872\n",
            "Cost at iteration 300:\t 3016.0910949597546\n",
            "Cost at iteration 400:\t 3016.081910732348\n",
            "Cost at iteration 500:\t 3016.074797609971\n",
            "Cost at iteration 600:\t 3016.067745666411\n",
            "Cost at iteration 700:\t 3016.060719156765\n",
            "Cost at iteration 800:\t 3016.0537170588937\n",
            "Cost at iteration 900:\t 3016.0467389724004\n"
          ]
        }
      ],
      "source": [
        "# Train the model for 1000 iterations\n",
        "weights, bias, costs = train_model(X_train, y_train, weights, bias, learning_rate=0.01, n_iters=1000)"
      ]
    },
    {
      "cell_type": "code",
      "execution_count": 19,
      "metadata": {
        "id": "s3spzN0Ib1yw"
      },
      "outputs": [],
      "source": [
        "# defining the prediction function\n",
        "def predict_model(X, weights, bias):\n",
        "    # Calculate the predicted values using the current weights and bias\n",
        "    y_pred = hypothesis(X, weights, bias)\n",
        "\n",
        "    return y_pred\n"
      ]
    },
    {
      "cell_type": "code",
      "execution_count": 20,
      "metadata": {
        "colab": {
          "base_uri": "https://localhost:8080/",
          "height": 0
        },
        "id": "PaLhHMBZb1yw",
        "outputId": "64e7f22e-4fca-4a8b-c7a0-62991a280bdd"
      },
      "outputs": [
        {
          "output_type": "stream",
          "name": "stdout",
          "text": [
            "Mean Squared Error: 2323.31737269564\n"
          ]
        }
      ],
      "source": [
        "# Make predictions on the dev set\n",
        "y_pred = predict_model(X_dev, weights, bias)\n",
        "\n",
        "# Calculate the mean squared error\n",
        "mse = mean_squared_error(y_dev, y_pred)\n",
        "\n",
        "print(\"Mean Squared Error: {}\".format(mse))"
      ]
    },
    {
      "cell_type": "markdown",
      "metadata": {
        "id": "m_RtDqDjb1yw"
      },
      "source": [
        "### Testing the model on the test set"
      ]
    },
    {
      "cell_type": "code",
      "execution_count": 21,
      "metadata": {
        "colab": {
          "base_uri": "https://localhost:8080/",
          "height": 0
        },
        "id": "0w5A-Fanb1yx",
        "outputId": "4a10991c-bcab-4c73-f0d9-bbcd5fb9fb8a"
      },
      "outputs": [
        {
          "output_type": "stream",
          "name": "stdout",
          "text": [
            "Mean Squared Error: 3165.4205143477434\n"
          ]
        }
      ],
      "source": [
        "# testing the model on the test set\n",
        "y_pred = predict_model(X_test, weights, bias)\n",
        "\n",
        "# Calculate the mean squared error\n",
        "mse = mean_squared_error(y_test, y_pred)\n",
        "\n",
        "print(\"Mean Squared Error: {}\".format(mse))"
      ]
    }
  ],
  "metadata": {
    "kernelspec": {
      "display_name": "data",
      "language": "python",
      "name": "python3"
    },
    "language_info": {
      "codemirror_mode": {
        "name": "ipython",
        "version": 3
      },
      "file_extension": ".py",
      "mimetype": "text/x-python",
      "name": "python",
      "nbconvert_exporter": "python",
      "pygments_lexer": "ipython3",
      "version": "3.9.7"
    },
    "orig_nbformat": 4,
    "vscode": {
      "interpreter": {
        "hash": "4b5221f7fd568601ffb692ded55cc6a8f9f720c6422993e13b3964f3c2d5ea0a"
      }
    },
    "colab": {
      "provenance": []
    }
  },
  "nbformat": 4,
  "nbformat_minor": 0
}