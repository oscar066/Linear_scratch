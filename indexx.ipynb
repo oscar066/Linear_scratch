{
 "cells": [
  {
   "cell_type": "code",
   "execution_count": 1,
   "metadata": {},
   "outputs": [
    {
     "data": {
      "text/html": [
       "<div>\n",
       "<style scoped>\n",
       "    .dataframe tbody tr th:only-of-type {\n",
       "        vertical-align: middle;\n",
       "    }\n",
       "\n",
       "    .dataframe tbody tr th {\n",
       "        vertical-align: top;\n",
       "    }\n",
       "\n",
       "    .dataframe thead th {\n",
       "        text-align: right;\n",
       "    }\n",
       "</style>\n",
       "<table border=\"1\" class=\"dataframe\">\n",
       "  <thead>\n",
       "    <tr style=\"text-align: right;\">\n",
       "      <th></th>\n",
       "      <th>age</th>\n",
       "      <th>sex</th>\n",
       "      <th>bmi</th>\n",
       "      <th>bp</th>\n",
       "      <th>s1</th>\n",
       "      <th>s2</th>\n",
       "      <th>s3</th>\n",
       "      <th>s4</th>\n",
       "      <th>s5</th>\n",
       "      <th>s6</th>\n",
       "      <th>target</th>\n",
       "    </tr>\n",
       "  </thead>\n",
       "  <tbody>\n",
       "    <tr>\n",
       "      <th>0</th>\n",
       "      <td>0.038076</td>\n",
       "      <td>0.050680</td>\n",
       "      <td>0.061696</td>\n",
       "      <td>0.021872</td>\n",
       "      <td>-0.044223</td>\n",
       "      <td>-0.034821</td>\n",
       "      <td>-0.043401</td>\n",
       "      <td>-0.002592</td>\n",
       "      <td>0.019907</td>\n",
       "      <td>-0.017646</td>\n",
       "      <td>151.0</td>\n",
       "    </tr>\n",
       "    <tr>\n",
       "      <th>1</th>\n",
       "      <td>-0.001882</td>\n",
       "      <td>-0.044642</td>\n",
       "      <td>-0.051474</td>\n",
       "      <td>-0.026328</td>\n",
       "      <td>-0.008449</td>\n",
       "      <td>-0.019163</td>\n",
       "      <td>0.074412</td>\n",
       "      <td>-0.039493</td>\n",
       "      <td>-0.068332</td>\n",
       "      <td>-0.092204</td>\n",
       "      <td>75.0</td>\n",
       "    </tr>\n",
       "    <tr>\n",
       "      <th>2</th>\n",
       "      <td>0.085299</td>\n",
       "      <td>0.050680</td>\n",
       "      <td>0.044451</td>\n",
       "      <td>-0.005670</td>\n",
       "      <td>-0.045599</td>\n",
       "      <td>-0.034194</td>\n",
       "      <td>-0.032356</td>\n",
       "      <td>-0.002592</td>\n",
       "      <td>0.002861</td>\n",
       "      <td>-0.025930</td>\n",
       "      <td>141.0</td>\n",
       "    </tr>\n",
       "    <tr>\n",
       "      <th>3</th>\n",
       "      <td>-0.089063</td>\n",
       "      <td>-0.044642</td>\n",
       "      <td>-0.011595</td>\n",
       "      <td>-0.036656</td>\n",
       "      <td>0.012191</td>\n",
       "      <td>0.024991</td>\n",
       "      <td>-0.036038</td>\n",
       "      <td>0.034309</td>\n",
       "      <td>0.022688</td>\n",
       "      <td>-0.009362</td>\n",
       "      <td>206.0</td>\n",
       "    </tr>\n",
       "    <tr>\n",
       "      <th>4</th>\n",
       "      <td>0.005383</td>\n",
       "      <td>-0.044642</td>\n",
       "      <td>-0.036385</td>\n",
       "      <td>0.021872</td>\n",
       "      <td>0.003935</td>\n",
       "      <td>0.015596</td>\n",
       "      <td>0.008142</td>\n",
       "      <td>-0.002592</td>\n",
       "      <td>-0.031988</td>\n",
       "      <td>-0.046641</td>\n",
       "      <td>135.0</td>\n",
       "    </tr>\n",
       "  </tbody>\n",
       "</table>\n",
       "</div>"
      ],
      "text/plain": [
       "        age       sex       bmi        bp        s1        s2        s3  \\\n",
       "0  0.038076  0.050680  0.061696  0.021872 -0.044223 -0.034821 -0.043401   \n",
       "1 -0.001882 -0.044642 -0.051474 -0.026328 -0.008449 -0.019163  0.074412   \n",
       "2  0.085299  0.050680  0.044451 -0.005670 -0.045599 -0.034194 -0.032356   \n",
       "3 -0.089063 -0.044642 -0.011595 -0.036656  0.012191  0.024991 -0.036038   \n",
       "4  0.005383 -0.044642 -0.036385  0.021872  0.003935  0.015596  0.008142   \n",
       "\n",
       "         s4        s5        s6  target  \n",
       "0 -0.002592  0.019907 -0.017646   151.0  \n",
       "1 -0.039493 -0.068332 -0.092204    75.0  \n",
       "2 -0.002592  0.002861 -0.025930   141.0  \n",
       "3  0.034309  0.022688 -0.009362   206.0  \n",
       "4 -0.002592 -0.031988 -0.046641   135.0  "
      ]
     },
     "execution_count": 1,
     "metadata": {},
     "output_type": "execute_result"
    }
   ],
   "source": [
    "import pandas as pd \n",
    "import numpy as np\n",
    "import matplotlib.pyplot as plt\n",
    "from sklearn.datasets import load_diabetes\n",
    "from sklearn.model_selection import train_test_split\n",
    "\n",
    "# Step 1: Load the diabetes dataset\n",
    "diabetes = load_diabetes()\n",
    "diabetes_df = pd.DataFrame(data=diabetes.data, columns=diabetes.feature_names)\n",
    "diabetes_df['target'] = diabetes.target\n",
    "\n",
    "diabetes_df.head()"
   ]
  },
  {
   "cell_type": "code",
   "execution_count": 2,
   "metadata": {},
   "outputs": [
    {
     "data": {
      "text/plain": [
       "['age', 'sex', 'bmi', 'bp', 's1', 's2', 's3', 's4', 's5', 's6']"
      ]
     },
     "execution_count": 2,
     "metadata": {},
     "output_type": "execute_result"
    }
   ],
   "source": [
    "diabetes.feature_names"
   ]
  },
  {
   "cell_type": "code",
   "execution_count": 3,
   "metadata": {},
   "outputs": [],
   "source": [
    "# splitting the data into X and y\n",
    "X = diabetes_df.iloc[:, :-1]\n",
    "y = diabetes_df.iloc[:, -1]"
   ]
  },
  {
   "cell_type": "code",
   "execution_count": 4,
   "metadata": {},
   "outputs": [],
   "source": [
    "# shuffling the data\n",
    "def shuffle(X, y):\n",
    "    np.random.seed(67)\n",
    "    randomize = np.arange(len(X))\n",
    "    np.random.shuffle(randomize)\n",
    "    X = X.iloc[randomize]\n",
    "    y = y.iloc[randomize]\n",
    "    return X, y\n",
    "\n",
    "X, y = shuffle(X, y)"
   ]
  },
  {
   "cell_type": "code",
   "execution_count": 5,
   "metadata": {},
   "outputs": [
    {
     "name": "stdout",
     "output_type": "stream",
     "text": [
      "          age       sex       bmi        bp        s1        s2        s3  \\\n",
      "295 -0.052738  0.050680  0.039062 -0.040099 -0.005697 -0.012900  0.011824   \n",
      "114  0.023546 -0.044642  0.110198  0.063187  0.013567 -0.032942 -0.024993   \n",
      "197  0.048974  0.050680  0.003494  0.070072 -0.008449  0.013404 -0.054446   \n",
      "255  0.001751 -0.044642 -0.065486 -0.005670 -0.007073 -0.019476  0.041277   \n",
      "429 -0.041840 -0.044642 -0.033151 -0.022885  0.046589  0.041587  0.056003   \n",
      "\n",
      "           s4        s5        s6  \n",
      "295 -0.039493  0.016307  0.003064  \n",
      "114  0.020655  0.099241  0.023775  \n",
      "197  0.034309  0.013317  0.036201  \n",
      "255 -0.039493 -0.003301  0.007207  \n",
      "429 -0.024733 -0.025953 -0.038357  \n",
      "     target\n",
      "295    85.0\n",
      "114   258.0\n",
      "197   129.0\n",
      "255   153.0\n",
      "429    94.0\n"
     ]
    }
   ],
   "source": [
    "# make sure that the labels and features are still matching after shuffling the data.\n",
    "print(pd.DataFrame(X.head()))\n",
    "print(pd.DataFrame(y.head()))"
   ]
  },
  {
   "cell_type": "code",
   "execution_count": 6,
   "metadata": {},
   "outputs": [],
   "source": [
    "# Step 2: Split the dataset into train, dev, and test sets\n",
    "X_train, X_test, y_train, y_test = train_test_split(X, y, test_size=0.3, random_state=42)\n",
    "X_dev, X_test, y_dev, y_test = train_test_split(X_test, y_test, test_size=0.5, random_state=42)"
   ]
  },
  {
   "cell_type": "code",
   "execution_count": 7,
   "metadata": {},
   "outputs": [],
   "source": [
    "# initializing theta with random values\n",
    "n = X_train.shape[1]\n",
    "theta = np.random.normal(0, 0.1, (n,))"
   ]
  },
  {
   "cell_type": "code",
   "execution_count": 8,
   "metadata": {},
   "outputs": [],
   "source": [
    "def compute_cost(Y_pred, Y_true):\n",
    "    m = len(Y_true)\n",
    "    cost = (1/2*m) * np.sum(np.square(Y_pred - Y_true)) # MSE\n",
    "    return cost\n",
    "\n",
    "#def multivariate_linear_regression(theta, input):\n",
    "    #pred = np.dot(input, theta[1:]) + theta[0] * np.ones((input.shape[0], 1))\n",
    "    #return pred\n",
    "\n",
    "#def multivariate_linear_regression(theta, input):\n",
    "    #theta = theta.reshape(-1, 1)\n",
    "    #pred = np.dot(input, theta[1:]) + theta[0] * np.ones((input.shape[0], 1))\n",
    "    #return pred\n",
    "\n",
    "\n",
    "#def multivariate_linear_regression(theta, input):\n",
    "    # Add a bias term to the input matrix\n",
    "    bias_term = np.ones((input.shape[0], 1))\n",
    "    input = np.hstack((bias_term, input))\n",
    "    \n",
    "    # Make sure theta is a column vector\n",
    "    theta = theta.reshape(-1, 1)\n",
    "    \n",
    "    # Perform the matrix multiplication\n",
    "    pred = np.dot(input, theta)\n",
    "    \n",
    "    return pred\n",
    "\n",
    "def multivariate_linear_regression(theta, input):\n",
    "    # Add a bias term to the input matrix\n",
    "    bias_term = np.ones((input.shape[0], 1))\n",
    "    input = np.hstack((bias_term, input))\n",
    "    \n",
    "    # Make sure theta is a column vector with n+1 elements\n",
    "    theta = np.reshape(theta, (input.shape[1], 1))\n",
    "    \n",
    "    # Perform the matrix multiplication\n",
    "    pred = np.dot(input, theta)\n",
    "    \n",
    "    return pred"
   ]
  },
  {
   "cell_type": "code",
   "execution_count": 9,
   "metadata": {},
   "outputs": [
    {
     "name": "stdout",
     "output_type": "stream",
     "text": [
      "(10,)\n",
      "(309, 10)\n"
     ]
    }
   ],
   "source": [
    "print(theta.shape)\n",
    "print(X_train.shape)"
   ]
  },
  {
   "cell_type": "code",
   "execution_count": null,
   "metadata": {},
   "outputs": [],
   "source": [
    "pred = multivariate_linear_regression(theta, X_train)\n",
    "print(pred)"
   ]
  },
  {
   "cell_type": "code",
   "execution_count": 12,
   "metadata": {},
   "outputs": [
    {
     "name": "stdout",
     "output_type": "stream",
     "text": [
      "(10,)\n",
      "(309, 10)\n",
      "(309,)\n"
     ]
    }
   ],
   "source": [
    "print(theta.shape)\n",
    "print(X_train.shape)\n",
    "print(y_train.shape)"
   ]
  },
  {
   "cell_type": "code",
   "execution_count": 13,
   "metadata": {},
   "outputs": [
    {
     "ename": "ValueError",
     "evalue": "shapes (309,11) and (10,1) not aligned: 11 (dim 1) != 10 (dim 0)",
     "output_type": "error",
     "traceback": [
      "\u001b[0;31m---------------------------------------------------------------------------\u001b[0m",
      "\u001b[0;31mValueError\u001b[0m                                Traceback (most recent call last)",
      "\u001b[0;32m/var/folders/5k/1gm98l3s7l541jt9yyg0qb6w0000gn/T/ipykernel_97060/1607182600.py\u001b[0m in \u001b[0;36m<module>\u001b[0;34m\u001b[0m\n\u001b[1;32m     11\u001b[0m \u001b[0;34m\u001b[0m\u001b[0m\n\u001b[1;32m     12\u001b[0m \u001b[0;31m# Apply gradient descent to the training data\u001b[0m\u001b[0;34m\u001b[0m\u001b[0;34m\u001b[0m\u001b[0m\n\u001b[0;32m---> 13\u001b[0;31m \u001b[0mtheta\u001b[0m \u001b[0;34m=\u001b[0m \u001b[0mgradient_descent\u001b[0m\u001b[0;34m(\u001b[0m\u001b[0mtheta\u001b[0m\u001b[0;34m,\u001b[0m \u001b[0mX_train\u001b[0m\u001b[0;34m,\u001b[0m \u001b[0my_train\u001b[0m\u001b[0;34m,\u001b[0m \u001b[0mmultivariate_linear_regression\u001b[0m\u001b[0;34m(\u001b[0m\u001b[0mtheta\u001b[0m\u001b[0;34m,\u001b[0m \u001b[0mX_train\u001b[0m\u001b[0;34m)\u001b[0m\u001b[0;34m,\u001b[0m \u001b[0;36m0.01\u001b[0m\u001b[0;34m,\u001b[0m \u001b[0;36m1000\u001b[0m\u001b[0;34m)\u001b[0m\u001b[0;34m[\u001b[0m\u001b[0;36m0\u001b[0m\u001b[0;34m]\u001b[0m\u001b[0;34m\u001b[0m\u001b[0;34m\u001b[0m\u001b[0m\n\u001b[0m\u001b[1;32m     14\u001b[0m \u001b[0mtheta\u001b[0m\u001b[0;34m\u001b[0m\u001b[0;34m\u001b[0m\u001b[0m\n",
      "\u001b[0;32m/var/folders/5k/1gm98l3s7l541jt9yyg0qb6w0000gn/T/ipykernel_97060/3217552702.py\u001b[0m in \u001b[0;36mmultivariate_linear_regression\u001b[0;34m(theta, input)\u001b[0m\n\u001b[1;32m     23\u001b[0m \u001b[0;34m\u001b[0m\u001b[0m\n\u001b[1;32m     24\u001b[0m     \u001b[0;31m# Perform the matrix multiplication\u001b[0m\u001b[0;34m\u001b[0m\u001b[0;34m\u001b[0m\u001b[0m\n\u001b[0;32m---> 25\u001b[0;31m     \u001b[0mpred\u001b[0m \u001b[0;34m=\u001b[0m \u001b[0mnp\u001b[0m\u001b[0;34m.\u001b[0m\u001b[0mdot\u001b[0m\u001b[0;34m(\u001b[0m\u001b[0minput\u001b[0m\u001b[0;34m,\u001b[0m \u001b[0mtheta\u001b[0m\u001b[0;34m)\u001b[0m\u001b[0;34m\u001b[0m\u001b[0;34m\u001b[0m\u001b[0m\n\u001b[0m\u001b[1;32m     26\u001b[0m \u001b[0;34m\u001b[0m\u001b[0m\n\u001b[1;32m     27\u001b[0m     \u001b[0;32mreturn\u001b[0m \u001b[0mpred\u001b[0m\u001b[0;34m\u001b[0m\u001b[0;34m\u001b[0m\u001b[0m\n",
      "\u001b[0;32m<__array_function__ internals>\u001b[0m in \u001b[0;36mdot\u001b[0;34m(*args, **kwargs)\u001b[0m\n",
      "\u001b[0;31mValueError\u001b[0m: shapes (309,11) and (10,1) not aligned: 11 (dim 1) != 10 (dim 0)"
     ]
    }
   ],
   "source": [
    "def gradient_descent(theta, X, Y_true, Y_pred, learning_rate, num_iterations):\n",
    "    m = len(Y_true)\n",
    "    cost_history = np.zeros(num_iterations)\n",
    "    theta_history = np.zeros((num_iterations, n))\n",
    "    for it in range(num_iterations):\n",
    "        theta = theta - (1/m) * learning_rate * (X.T.dot((Y_pred - Y_true)))\n",
    "        theta_history[it, :] = theta.T\n",
    "        Y_pred = multivariate_linear_regression(theta, X)\n",
    "        cost_history[it]  = compute_cost(Y_pred, Y_true)     \n",
    "    return theta, cost_history, theta_history\n",
    "\n",
    "# Apply gradient descent to the training data\n",
    "theta = gradient_descent(theta, X_train, y_train, multivariate_linear_regression(theta, X_train), 0.01, 1000)[0]\n",
    "theta"
   ]
  },
  {
   "cell_type": "code",
   "execution_count": null,
   "metadata": {},
   "outputs": [],
   "source": [
    "def gradient_descent(theta, X, Y_true, Y_pred, learning_rate):\n",
    "    # calculate the number of samples in the training data\n",
    "    m = len(Y_true)\n",
    "    # update theta_0 using gradient descent\n",
    "    theta[0] = theta[0] - learning_rate * (1/m) * np.sum(Y_pred - Y_true)\n",
    "    # update theta_1 using gradient descent\n",
    "    theta[1:] = theta[1:] - learning_rate * (1/m) * np.dot((Y_pred - Y_true), X)\n",
    "    return theta\n",
    "\n",
    "\n",
    "theta = gradient_descent(theta, X_train, y_train, multivariate_linear_regression(theta, X_train), 0.0001)\n",
    "print(theta)"
   ]
  },
  {
   "cell_type": "code",
   "execution_count": 17,
   "metadata": {},
   "outputs": [],
   "source": [
    "def normalize(X):\n",
    "    mean = np.mean(X)\n",
    "    std = np.std(X)\n",
    "    X = (X - mean) / std\n",
    "    return X, mean, std\n",
    "\n",
    "X_train, mean, std = normalize(X_train)"
   ]
  },
  {
   "cell_type": "code",
   "execution_count": null,
   "metadata": {},
   "outputs": [],
   "source": [
    "def train(X, Y_true, theta, learning_rate, iterations):\n",
    "    # normalize the features of X\n",
    "    X, X_mean, X_std = normalize(X)\n",
    "    # initialize an array to store the cost history for each iteration\n",
    "    cost_history = np.zeros(iterations)\n",
    "    for i in range(iterations):\n",
    "        # get the predicted values for Y using the current theta\n",
    "        Y_pred = multivariate_linear_regression(theta, X)\n",
    "        # update theta using the gradient descent algorithm\n",
    "        theta = gradient_descent(theta, X, Y_true, Y_pred, learning_rate)\n",
    "        # store the cost for the current iteration\n",
    "        cost_history[i] = compute_cost(Y_pred, Y_true)\n",
    "    # return the updated theta, the cost history, and the normalization parameter\n",
    "    return theta, cost_history, X_mean, X_std\n",
    "\n",
    "def predict(X, theta, X_mean, X_std):\n",
    "    # normalize the features of X using the normalization parameters\n",
    "    X = (X - X_mean) / X_std\n",
    "    # get the predicted values for Y using the updated theta\n",
    "    Y_pred = multivariate_linear_regression(theta, X)\n",
    "    # return the predictions\n",
    "    return Y_pred\n",
    "\n",
    "theta, cost_history, X_mean, X_std = train(X_train, y_train, theta, 0.0001, 1000)\n",
    "pred = predict(X_test, theta, X_mean, X_std)\n",
    "\n",
    "print(\"RMSE: \", np.sqrt(np.mean((pred - y_test) ** 2)))\n",
    "print(\"MSE: \", np.mean((pred - y_test) ** 2))"
   ]
  },
  {
   "cell_type": "code",
   "execution_count": null,
   "metadata": {},
   "outputs": [],
   "source": [
    "compute_cost(pred, y_test)"
   ]
  },
  {
   "cell_type": "code",
   "execution_count": null,
   "metadata": {},
   "outputs": [],
   "source": [
    "# test the model on the dev set\n",
    "pred = predict(X_dev[best_feature], theta, X_mean, X_std)\n",
    "print(\"RMSE: \", np.sqrt(np.mean((pred - y_dev) ** 2)))\n",
    "print(\"MSE: \", np.mean((pred - y_dev) ** 2))"
   ]
  },
  {
   "cell_type": "code",
   "execution_count": null,
   "metadata": {},
   "outputs": [],
   "source": [
    "compute_cost(pred, y_dev)"
   ]
  },
  {
   "cell_type": "code",
   "execution_count": null,
   "metadata": {},
   "outputs": [],
   "source": []
  }
 ],
 "metadata": {
  "kernelspec": {
   "display_name": "data",
   "language": "python",
   "name": "python3"
  },
  "language_info": {
   "codemirror_mode": {
    "name": "ipython",
    "version": 3
   },
   "file_extension": ".py",
   "mimetype": "text/x-python",
   "name": "python",
   "nbconvert_exporter": "python",
   "pygments_lexer": "ipython3",
   "version": "3.9.7"
  },
  "orig_nbformat": 4,
  "vscode": {
   "interpreter": {
    "hash": "4b5221f7fd568601ffb692ded55cc6a8f9f720c6422993e13b3964f3c2d5ea0a"
   }
  }
 },
 "nbformat": 4,
 "nbformat_minor": 2
}
