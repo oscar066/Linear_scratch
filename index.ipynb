{
  "cells": [
    {
      "cell_type": "markdown",
      "metadata": {
        "id": "W0EBJCr_sfCq"
      },
      "source": [
        "# Linear Regression from scratch in Python"
      ]
    },
    {
      "cell_type": "markdown",
      "metadata": {
        "id": "zfKIt_fVsfC3"
      },
      "source": [
        "## Importing the libraries"
      ]
    },
    {
      "cell_type": "code",
      "execution_count": 1,
      "metadata": {
        "colab": {
          "base_uri": "https://localhost:8080/",
          "height": 206
        },
        "id": "hBNJSQ7esfC3",
        "outputId": "6fc83adc-892c-4d6e-83e8-d9cba6ef28a5"
      },
      "outputs": [
        {
          "data": {
            "text/html": [
              "<div>\n",
              "<style scoped>\n",
              "    .dataframe tbody tr th:only-of-type {\n",
              "        vertical-align: middle;\n",
              "    }\n",
              "\n",
              "    .dataframe tbody tr th {\n",
              "        vertical-align: top;\n",
              "    }\n",
              "\n",
              "    .dataframe thead th {\n",
              "        text-align: right;\n",
              "    }\n",
              "</style>\n",
              "<table border=\"1\" class=\"dataframe\">\n",
              "  <thead>\n",
              "    <tr style=\"text-align: right;\">\n",
              "      <th></th>\n",
              "      <th>age</th>\n",
              "      <th>sex</th>\n",
              "      <th>bmi</th>\n",
              "      <th>bp</th>\n",
              "      <th>s1</th>\n",
              "      <th>s2</th>\n",
              "      <th>s3</th>\n",
              "      <th>s4</th>\n",
              "      <th>s5</th>\n",
              "      <th>s6</th>\n",
              "      <th>target</th>\n",
              "    </tr>\n",
              "  </thead>\n",
              "  <tbody>\n",
              "    <tr>\n",
              "      <th>0</th>\n",
              "      <td>0.038076</td>\n",
              "      <td>0.050680</td>\n",
              "      <td>0.061696</td>\n",
              "      <td>0.021872</td>\n",
              "      <td>-0.044223</td>\n",
              "      <td>-0.034821</td>\n",
              "      <td>-0.043401</td>\n",
              "      <td>-0.002592</td>\n",
              "      <td>0.019907</td>\n",
              "      <td>-0.017646</td>\n",
              "      <td>151.0</td>\n",
              "    </tr>\n",
              "    <tr>\n",
              "      <th>1</th>\n",
              "      <td>-0.001882</td>\n",
              "      <td>-0.044642</td>\n",
              "      <td>-0.051474</td>\n",
              "      <td>-0.026328</td>\n",
              "      <td>-0.008449</td>\n",
              "      <td>-0.019163</td>\n",
              "      <td>0.074412</td>\n",
              "      <td>-0.039493</td>\n",
              "      <td>-0.068332</td>\n",
              "      <td>-0.092204</td>\n",
              "      <td>75.0</td>\n",
              "    </tr>\n",
              "    <tr>\n",
              "      <th>2</th>\n",
              "      <td>0.085299</td>\n",
              "      <td>0.050680</td>\n",
              "      <td>0.044451</td>\n",
              "      <td>-0.005670</td>\n",
              "      <td>-0.045599</td>\n",
              "      <td>-0.034194</td>\n",
              "      <td>-0.032356</td>\n",
              "      <td>-0.002592</td>\n",
              "      <td>0.002861</td>\n",
              "      <td>-0.025930</td>\n",
              "      <td>141.0</td>\n",
              "    </tr>\n",
              "    <tr>\n",
              "      <th>3</th>\n",
              "      <td>-0.089063</td>\n",
              "      <td>-0.044642</td>\n",
              "      <td>-0.011595</td>\n",
              "      <td>-0.036656</td>\n",
              "      <td>0.012191</td>\n",
              "      <td>0.024991</td>\n",
              "      <td>-0.036038</td>\n",
              "      <td>0.034309</td>\n",
              "      <td>0.022688</td>\n",
              "      <td>-0.009362</td>\n",
              "      <td>206.0</td>\n",
              "    </tr>\n",
              "    <tr>\n",
              "      <th>4</th>\n",
              "      <td>0.005383</td>\n",
              "      <td>-0.044642</td>\n",
              "      <td>-0.036385</td>\n",
              "      <td>0.021872</td>\n",
              "      <td>0.003935</td>\n",
              "      <td>0.015596</td>\n",
              "      <td>0.008142</td>\n",
              "      <td>-0.002592</td>\n",
              "      <td>-0.031988</td>\n",
              "      <td>-0.046641</td>\n",
              "      <td>135.0</td>\n",
              "    </tr>\n",
              "  </tbody>\n",
              "</table>\n",
              "</div>"
            ],
            "text/plain": [
              "        age       sex       bmi        bp        s1        s2        s3  \\\n",
              "0  0.038076  0.050680  0.061696  0.021872 -0.044223 -0.034821 -0.043401   \n",
              "1 -0.001882 -0.044642 -0.051474 -0.026328 -0.008449 -0.019163  0.074412   \n",
              "2  0.085299  0.050680  0.044451 -0.005670 -0.045599 -0.034194 -0.032356   \n",
              "3 -0.089063 -0.044642 -0.011595 -0.036656  0.012191  0.024991 -0.036038   \n",
              "4  0.005383 -0.044642 -0.036385  0.021872  0.003935  0.015596  0.008142   \n",
              "\n",
              "         s4        s5        s6  target  \n",
              "0 -0.002592  0.019907 -0.017646   151.0  \n",
              "1 -0.039493 -0.068332 -0.092204    75.0  \n",
              "2 -0.002592  0.002861 -0.025930   141.0  \n",
              "3  0.034309  0.022688 -0.009362   206.0  \n",
              "4 -0.002592 -0.031988 -0.046641   135.0  "
            ]
          },
          "execution_count": 1,
          "metadata": {},
          "output_type": "execute_result"
        }
      ],
      "source": [
        "import pandas as pd \n",
        "import numpy as np\n",
        "import matplotlib.pyplot as plt\n",
        "from sklearn.datasets import load_diabetes\n",
        "from sklearn.model_selection import train_test_split\n",
        "\n",
        "# Step 1: Load the diabetes dataset\n",
        "diabetes = load_diabetes()\n",
        "diabetes_df = pd.DataFrame(data=diabetes.data, columns=diabetes.feature_names)\n",
        "diabetes_df['target'] = diabetes.target\n",
        "\n",
        "diabetes_df.head()"
      ]
    },
    {
      "cell_type": "markdown",
      "metadata": {
        "id": "lglPt_WBsfC_"
      },
      "source": [
        "## Splitting the Data into X and y"
      ]
    },
    {
      "cell_type": "code",
      "execution_count": 2,
      "metadata": {
        "id": "sdAQ73FNsfDA"
      },
      "outputs": [],
      "source": [
        "# splitting the data into X and y\n",
        "X = diabetes_df.iloc[:, :-1]\n",
        "y = diabetes_df.iloc[:, -1]"
      ]
    },
    {
      "cell_type": "markdown",
      "metadata": {
        "id": "MbsUoJa4sfDA"
      },
      "source": [
        "## Shuffling the data"
      ]
    },
    {
      "cell_type": "code",
      "execution_count": 3,
      "metadata": {
        "id": "zTFxQH0gsfDA"
      },
      "outputs": [],
      "source": [
        "# shuffling the data\n",
        "def shuffle(X, y):\n",
        "    np.random.seed(67)\n",
        "    randomize = np.arange(len(X))\n",
        "    np.random.shuffle(randomize)\n",
        "    X = X.iloc[randomize]\n",
        "    y = y.iloc[randomize]\n",
        "    return X, y\n",
        "\n",
        "X, y = shuffle(X, y)"
      ]
    },
    {
      "cell_type": "code",
      "execution_count": 4,
      "metadata": {
        "colab": {
          "base_uri": "https://localhost:8080/",
          "height": 0
        },
        "id": "fokiNmVbsfDB",
        "outputId": "369b139c-05bf-47c5-ad0c-b273f6c34138"
      },
      "outputs": [
        {
          "name": "stdout",
          "output_type": "stream",
          "text": [
            "          age       sex       bmi        bp        s1        s2        s3  \\\n",
            "295 -0.052738  0.050680  0.039062 -0.040099 -0.005697 -0.012900  0.011824   \n",
            "114  0.023546 -0.044642  0.110198  0.063187  0.013567 -0.032942 -0.024993   \n",
            "197  0.048974  0.050680  0.003494  0.070072 -0.008449  0.013404 -0.054446   \n",
            "255  0.001751 -0.044642 -0.065486 -0.005670 -0.007073 -0.019476  0.041277   \n",
            "429 -0.041840 -0.044642 -0.033151 -0.022885  0.046589  0.041587  0.056003   \n",
            "\n",
            "           s4        s5        s6  \n",
            "295 -0.039493  0.016307  0.003064  \n",
            "114  0.020655  0.099241  0.023775  \n",
            "197  0.034309  0.013317  0.036201  \n",
            "255 -0.039493 -0.003301  0.007207  \n",
            "429 -0.024733 -0.025953 -0.038357  \n",
            "     target\n",
            "295    85.0\n",
            "114   258.0\n",
            "197   129.0\n",
            "255   153.0\n",
            "429    94.0\n"
          ]
        }
      ],
      "source": [
        "# make sure that the labels and features are still matching after shuffling the data.\n",
        "print(pd.DataFrame(X.head()))\n",
        "print(pd.DataFrame(y.head()))"
      ]
    },
    {
      "cell_type": "markdown",
      "metadata": {
        "id": "RkwScZc-sfDB"
      },
      "source": [
        "## Splitting the data into train , dev and test"
      ]
    },
    {
      "cell_type": "code",
      "execution_count": 5,
      "metadata": {
        "id": "mv5Cn9BZsfDC"
      },
      "outputs": [],
      "source": [
        "# Step 2: Split the dataset into train, dev, and test sets\n",
        "X_train, X_test, y_train, y_test = train_test_split(X, y, test_size=0.3, random_state=42)\n",
        "X_dev, X_test, y_dev, y_test = train_test_split(X_test, y_test, test_size=0.5, random_state=42)"
      ]
    },
    {
      "cell_type": "markdown",
      "metadata": {
        "id": "uQDi-Ip5sfDC"
      },
      "source": [
        "## Choosing the best feature"
      ]
    },
    {
      "cell_type": "code",
      "execution_count": 6,
      "metadata": {
        "id": "8FDQPYyUsfDC"
      },
      "outputs": [],
      "source": [
        "from sklearn.ensemble import RandomForestRegressor\n",
        "\n",
        "# choosing the best feature for the model \n",
        "def bestFeature(X_train, y_train, X_dev, y_dev):\n",
        "    # initialize the best feature and its corresponding RMSE\n",
        "    best_feature = None\n",
        "    # initialize the best RMSE to infinity\n",
        "    best_rmse = float('inf')\n",
        "    \n",
        "    # loop over all features\n",
        "    for feature in X_train.columns:\n",
        "        # train the model on the current feature\n",
        "        model = RandomForestRegressor()\n",
        "        model.fit(X_train[feature].values.reshape(-1, 1), y_train)\n",
        "        # compute the RMSE on the dev set\n",
        "        y_pred = model.predict(X_dev[feature].values.reshape(-1, 1))\n",
        "        rmse = np.sqrt(np.mean((y_pred - y_dev) ** 2))\n",
        "        mse = np.mean((y_pred - y_dev) ** 2)\n",
        "        # print each feature's MSE and RMSE\n",
        "        print(\"RMSE and MSE for feature {}: \\t{}, \\t{}\".format(feature, rmse, mse))\n",
        "        # get the best feature\n",
        "        if rmse < best_rmse:\n",
        "            best_rmse = rmse\n",
        "            best_feature = feature\n",
        "\n",
        "    return best_feature, best_rmse"
      ]
    },
    {
      "cell_type": "code",
      "execution_count": 7,
      "metadata": {
        "colab": {
          "base_uri": "https://localhost:8080/",
          "height": 0
        },
        "id": "Am94vULhsfDD",
        "outputId": "d8a4c6d1-009e-4a0c-9c71-c531430e538d"
      },
      "outputs": [
        {
          "name": "stdout",
          "output_type": "stream",
          "text": [
            "RMSE and MSE for feature age: \t74.11909245767413, \t5493.639866749247\n",
            "RMSE and MSE for feature sex: \t71.68464103816397, \t5138.687760770422\n",
            "RMSE and MSE for feature bmi: \t69.44534268362493, \t4822.6556204460985\n",
            "RMSE and MSE for feature bp: \t69.46197255531028, \t4824.965631274678\n",
            "RMSE and MSE for feature s1: \t79.48067459889481, \t6317.177634695403\n",
            "RMSE and MSE for feature s2: \t83.47639166380381, \t6968.307965208774\n",
            "RMSE and MSE for feature s3: \t75.06332038001688, \t5634.502066473057\n",
            "RMSE and MSE for feature s4: \t62.61875669264832, \t3921.108689733089\n",
            "RMSE and MSE for feature s5: \t70.49735848009135, \t4969.8775526705085\n",
            "RMSE and MSE for feature s6: \t67.18398922534259, \t4513.688408230949\n"
          ]
        },
        {
          "data": {
            "text/plain": [
              "('s4', 62.61875669264832)"
            ]
          },
          "execution_count": 7,
          "metadata": {},
          "output_type": "execute_result"
        }
      ],
      "source": [
        "best_feature, best_score = bestFeature(X_train, y_train, X_dev, y_dev)\n",
        "best_feature, best_score"
      ]
    },
    {
      "cell_type": "code",
      "execution_count": 8,
      "metadata": {
        "id": "dEQGuDd_sfDE"
      },
      "outputs": [],
      "source": [
        "theta = np.array([0.0, 0.0])"
      ]
    },
    {
      "cell_type": "code",
      "execution_count": 16,
      "metadata": {
        "id": "TY1loJAgsfDE"
      },
      "outputs": [],
      "source": [
        "def compute_cost(Y_pred, Y_true):\n",
        "    m = len(Y_true)\n",
        "    cost = (1/2*m) * np.sum(np.square(Y_pred - Y_true)) # MSE\n",
        "    return cost\n",
        "\n",
        "\n",
        "def univariate_linear_regression(theta, input):\n",
        "    pred = theta[0] + theta[1] * input\n",
        "    return pred"
      ]
    },
    {
      "cell_type": "code",
      "execution_count": 19,
      "metadata": {},
      "outputs": [
        {
          "name": "stdout",
          "output_type": "stream",
          "text": [
            "(2,)\n",
            "(309,)\n"
          ]
        }
      ],
      "source": [
        "print(theta.shape)\n",
        "print(X_train[best_feature].shape)"
      ]
    },
    {
      "cell_type": "markdown",
      "metadata": {
        "id": "sfVkD11yE8_J"
      },
      "source": [
        "The univariate_linear_regression function implements a simple linear regression model with a single feature, where theta is the vector of weights, theta[0] is the intercept and theta[1] is the slope. The input feature input is multiplied by the slope and added to the intercept to obtain the predicted output pred."
      ]
    },
    {
      "cell_type": "code",
      "execution_count": 17,
      "metadata": {
        "colab": {
          "base_uri": "https://localhost:8080/",
          "height": 0
        },
        "id": "anasW1KhsfDE",
        "outputId": "5b698c84-af2e-4dca-ede4-8a0ea24922b7"
      },
      "outputs": [
        {
          "data": {
            "text/plain": [
              "array([149.17815371,  33.71364302])"
            ]
          },
          "execution_count": 17,
          "metadata": {},
          "output_type": "execute_result"
        }
      ],
      "source": [
        "def gradient_descent(theta, X, Y_true, Y_pred, learning_rate):\n",
        "    # calculate the number of samples in the training data\n",
        "    m = len(Y_true)\n",
        "    # update theta_0 using gradient descent\n",
        "    theta[0] = theta[0] - learning_rate * (1/m) * np.sum(Y_pred - Y_true)\n",
        "    # update theta_1 using gradient descent\n",
        "    theta[1] = theta[1] - learning_rate * (1/m) * np.sum((Y_pred - Y_true) * X)\n",
        "    # return the updated theta values\n",
        "    return theta\n",
        "\n",
        "# Apply gradient descent to the training data\n",
        "theta = gradient_descent(theta, X_train[best_feature], y_train, univariate_linear_regression(theta, X_train[best_feature]), 0.01)\n",
        "theta"
      ]
    },
    {
      "cell_type": "markdown",
      "metadata": {
        "id": "2orgE46PsfDE"
      },
      "source": [
        "## Normalizing the data"
      ]
    },
    {
      "cell_type": "code",
      "execution_count": 11,
      "metadata": {
        "id": "f5_Vu4o0sfDH"
      },
      "outputs": [],
      "source": [
        "def normalize(X):\n",
        "    mean = np.mean(X)\n",
        "    std = np.std(X)\n",
        "    X = (X - mean) / std\n",
        "    return X, mean, std\n",
        "\n",
        "X_train[best_feature], mean, std = normalize(X_train[best_feature])"
      ]
    },
    {
      "cell_type": "markdown",
      "metadata": {
        "id": "BxufULNIsfDH"
      },
      "source": [
        "## Training the model"
      ]
    },
    {
      "cell_type": "code",
      "execution_count": 12,
      "metadata": {
        "colab": {
          "base_uri": "https://localhost:8080/",
          "height": 0
        },
        "id": "goACahbgsfDI",
        "outputId": "042be431-1744-47c5-b6d6-d2ddb7947512"
      },
      "outputs": [
        {
          "name": "stdout",
          "output_type": "stream",
          "text": [
            "RMSE:  83.67893323141489\n",
            "MSE:  7002.163866747591\n"
          ]
        }
      ],
      "source": [
        "def train(X, Y_true, theta, learning_rate, iterations):\n",
        "    # normalize the features of X\n",
        "    X, X_mean, X_std = normalize(X)\n",
        "    # initialize an array to store the cost history for each iteration\n",
        "    cost_history = np.zeros(iterations)\n",
        "    for i in range(iterations):\n",
        "        # get the predicted values for Y using the current theta\n",
        "        Y_pred = univariate_linear_regression(theta, X)\n",
        "        # update theta using the gradient descent algorithm\n",
        "        theta = gradient_descent(theta, X, Y_true, Y_pred, learning_rate)\n",
        "        # store the cost for the current iteration\n",
        "        cost_history[i] = compute_cost(Y_pred, Y_true)\n",
        "    # return the updated theta, the cost history, and the normalization parameter\n",
        "    return theta, cost_history, X_mean, X_std\n",
        "\n",
        "def predict(X, theta, X_mean, X_std):\n",
        "    # normalize the features of X using the normalization parameters\n",
        "    X = (X - X_mean) / X_std\n",
        "    # get the predicted values for Y using the updated theta\n",
        "    Y_pred = univariate_linear_regression(theta, X)\n",
        "    # return the predictions\n",
        "    return Y_pred\n",
        "\n",
        "theta, cost_history, X_mean, X_std = train(X_train[best_feature], y_train, theta, 0.01, 1000)\n",
        "pred = predict(X_test[best_feature], theta, X_mean, X_std)\n",
        "\n",
        "print(\"RMSE: \", np.sqrt(np.mean((pred - y_test) ** 2)))\n",
        "print(\"MSE: \", np.mean((pred - y_test) ** 2))\n"
      ]
    },
    {
      "cell_type": "code",
      "execution_count": 13,
      "metadata": {
        "colab": {
          "base_uri": "https://localhost:8080/",
          "height": 0
        },
        "id": "Fazug9JRsfDI",
        "outputId": "178bbf7d-f435-44b9-ce47-14cad64e44d3"
      },
      "outputs": [
        {
          "data": {
            "text/plain": [
              "15716356.798914969"
            ]
          },
          "execution_count": 13,
          "metadata": {},
          "output_type": "execute_result"
        }
      ],
      "source": [
        "compute_cost(pred, y_test)"
      ]
    },
    {
      "cell_type": "code",
      "execution_count": 14,
      "metadata": {
        "colab": {
          "base_uri": "https://localhost:8080/",
          "height": 0
        },
        "id": "RWn7ovECsfDI",
        "outputId": "df0f318b-b91c-4d2e-a3aa-1760f4a7c59e"
      },
      "outputs": [
        {
          "name": "stdout",
          "output_type": "stream",
          "text": [
            "RMSE:  71.39564924684686\n",
            "MSE:  5097.338731378784\n"
          ]
        }
      ],
      "source": [
        "# test the model on the dev set\n",
        "pred = predict(X_dev[best_feature], theta, X_mean, X_std)\n",
        "print(\"RMSE: \", np.sqrt(np.mean((pred - y_dev) ** 2)))\n",
        "print(\"MSE: \", np.mean((pred - y_dev) ** 2))"
      ]
    },
    {
      "cell_type": "code",
      "execution_count": 15,
      "metadata": {
        "colab": {
          "base_uri": "https://localhost:8080/",
          "height": 0
        },
        "id": "zP-IPJkcsfDJ",
        "outputId": "1aae34a5-84fc-49dc-b7d2-171865509495"
      },
      "outputs": [
        {
          "data": {
            "text/plain": [
              "11102003.756943"
            ]
          },
          "execution_count": 15,
          "metadata": {},
          "output_type": "execute_result"
        }
      ],
      "source": [
        "compute_cost(pred, y_dev)"
      ]
    },
    {
      "cell_type": "code",
      "execution_count": 16,
      "metadata": {
        "colab": {
          "base_uri": "https://localhost:8080/",
          "height": 483
        },
        "id": "4mGObj1EsfDJ",
        "outputId": "0b5fe42d-268f-486c-b1c5-70765c2287e4"
      },
      "outputs": [
        {
          "data": {
            "image/png": "[encoded data removed]",
            "text/plain": [
              "<Figure size 720x576 with 1 Axes>"
            ]
          },
          "metadata": {
            "needs_background": "light"
          },
          "output_type": "display_data"
        }
      ],
      "source": [
        "fig = plt.figure(figsize=(10, 8))\n",
        "plt.scatter(X_train[best_feature], y_train, color='blue')\n",
        "plt.plot(X_train[best_feature], univariate_linear_regression(theta, X_train[best_feature]), color='red')\n",
        "plt.show()"
      ]
    },
    {
      "cell_type": "markdown",
      "metadata": {
        "id": "GSSxll96FEGx"
      },
      "source": [
        "."
      ]
    }
  ],
  "metadata": {
    "colab": {
      "provenance": []
    },
    "kernelspec": {
      "display_name": "data",
      "language": "python",
      "name": "python3"
    },
    "language_info": {
      "codemirror_mode": {
        "name": "ipython",
        "version": 3
      },
      "file_extension": ".py",
      "mimetype": "text/x-python",
      "name": "python",
      "nbconvert_exporter": "python",
      "pygments_lexer": "ipython3",
      "version": "3.9.7"
    },
    "orig_nbformat": 4,
    "vscode": {
      "interpreter": {
        "hash": "4b5221f7fd568601ffb692ded55cc6a8f9f720c6422993e13b3964f3c2d5ea0a"
      }
    }
  },
  "nbformat": 4,
  "nbformat_minor": 0
}
